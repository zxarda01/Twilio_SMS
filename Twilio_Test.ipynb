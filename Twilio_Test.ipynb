{
  "nbformat": 4,
  "nbformat_minor": 0,
  "metadata": {
    "colab": {
      "name": "Twilio_Test.ipynb",
      "provenance": [],
      "authorship_tag": "ABX9TyOJ9bbAcZB47ZZ/dzOjLGde",
      "include_colab_link": true
    },
    "kernelspec": {
      "name": "python3",
      "display_name": "Python 3"
    }
  },
  "cells": [
    {
      "cell_type": "markdown",
      "metadata": {
        "id": "view-in-github",
        "colab_type": "text"
      },
      "source": [
        "<a href=\"https://colab.research.google.com/github/zxarda01/Twilio_SMS/blob/main/Twilio_Test.ipynb\" target=\"_parent\"><img src=\"https://colab.research.google.com/assets/colab-badge.svg\" alt=\"Open In Colab\"/></a>"
      ]
    },
    {
      "cell_type": "code",
      "metadata": {
        "colab": {
          "base_uri": "https://localhost:8080/"
        },
        "id": "9UUbsN8WrCFP",
        "outputId": "90fa7378-6cac-42a5-aa66-2dd1fc5eab50"
      },
      "source": [
        "!pip install twilio"
      ],
      "execution_count": 1,
      "outputs": [
        {
          "output_type": "stream",
          "text": [
            "Collecting twilio\n",
            "\u001b[?25l  Downloading https://files.pythonhosted.org/packages/e2/72/868b2f4d4ee5d82fcca38a8fd0824626f11661542bf922d82b7fe65b8ac6/twilio-6.54.0.tar.gz (471kB)\n",
            "\u001b[K     |████████████████████████████████| 481kB 5.5MB/s \n",
            "\u001b[?25hRequirement already satisfied: six in /usr/local/lib/python3.7/dist-packages (from twilio) (1.15.0)\n",
            "Requirement already satisfied: pytz in /usr/local/lib/python3.7/dist-packages (from twilio) (2018.9)\n",
            "Collecting PyJWT==1.7.1\n",
            "  Downloading https://files.pythonhosted.org/packages/87/8b/6a9f14b5f781697e51259d81657e6048fd31a113229cf346880bb7545565/PyJWT-1.7.1-py2.py3-none-any.whl\n",
            "Requirement already satisfied: requests>=2.0.0 in /usr/local/lib/python3.7/dist-packages (from twilio) (2.23.0)\n",
            "Requirement already satisfied: certifi>=2017.4.17 in /usr/local/lib/python3.7/dist-packages (from requests>=2.0.0->twilio) (2020.12.5)\n",
            "Requirement already satisfied: chardet<4,>=3.0.2 in /usr/local/lib/python3.7/dist-packages (from requests>=2.0.0->twilio) (3.0.4)\n",
            "Requirement already satisfied: idna<3,>=2.5 in /usr/local/lib/python3.7/dist-packages (from requests>=2.0.0->twilio) (2.10)\n",
            "Requirement already satisfied: urllib3!=1.25.0,!=1.25.1,<1.26,>=1.21.1 in /usr/local/lib/python3.7/dist-packages (from requests>=2.0.0->twilio) (1.24.3)\n",
            "Building wheels for collected packages: twilio\n",
            "  Building wheel for twilio (setup.py) ... \u001b[?25l\u001b[?25hdone\n",
            "  Created wheel for twilio: filename=twilio-6.54.0-py2.py3-none-any.whl size=1251893 sha256=17e962309504e9e13dfb4f8db43763c7b520d9dc346ba0b0b8e1ccdc2bfbc4cc\n",
            "  Stored in directory: /root/.cache/pip/wheels/bd/0b/c7/64cdbbdd6933050976d2c49e3a47289e924ff44c0c538247c3\n",
            "Successfully built twilio\n",
            "Installing collected packages: PyJWT, twilio\n",
            "Successfully installed PyJWT-1.7.1 twilio-6.54.0\n"
          ],
          "name": "stdout"
        }
      ]
    },
    {
      "cell_type": "code",
      "metadata": {
        "id": "RYPm3F3DrI5x"
      },
      "source": [
        "from twilio.rest import Client\r\n",
        "\r\n",
        "# your accountID/token from Twilio Account Dashboard\r\n",
        "account = \"aaaaaaa\"\r\n",
        "token = \"ttttttt\"\r\n",
        "client = Client(account, token)"
      ],
      "execution_count": 2,
      "outputs": []
    },
    {
      "cell_type": "code",
      "metadata": {
        "id": "GpluJnZxr2x5"
      },
      "source": [
        "# number you want to send the message\r\n",
        "  to_number = '+1231234567'\r\n",
        "# your twilio number \r\n",
        "  from_number = '+17654321321'\r\n",
        "\r\n",
        "\r\n",
        "message = client.messages.create(to= to_number, from_= from_number ,\r\n",
        "                                 body=\"Hello there!\")\r\n"
      ],
      "execution_count": 4,
      "outputs": []
    }
  ]
}